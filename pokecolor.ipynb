{
 "cells": [
  {
   "cell_type": "markdown",
   "id": "f1f88b60",
   "metadata": {},
   "source": [
    "# Sorting and cutting csv data"
   ]
  },
  {
   "cell_type": "code",
   "execution_count": 156,
   "id": "aca058f9",
   "metadata": {},
   "outputs": [],
   "source": [
    "import os\n",
    "import numpy as np # linear algebra\n",
    "import pandas as pd # data processing, CSV file I/O (e.g. pd.read_csv)\n",
    "import cv2 \n",
    "import matplotlib.pyplot as plt\n",
    "import glob\n",
    "import pathlib"
   ]
  },
  {
   "cell_type": "code",
   "execution_count": null,
   "id": "861f7e0b",
   "metadata": {},
   "outputs": [],
   "source": []
  },
  {
   "cell_type": "code",
   "execution_count": 157,
   "id": "69fa263b",
   "metadata": {},
   "outputs": [],
   "source": [
    "csv_path = os.path.join('archive/pokemon.csv')\n",
    "img_path = os.path.join('archive/images/pokemon')\n"
   ]
  },
  {
   "cell_type": "code",
   "execution_count": 158,
   "id": "dc954fb2",
   "metadata": {},
   "outputs": [
    {
     "data": {
      "text/html": [
       "<div>\n",
       "<style scoped>\n",
       "    .dataframe tbody tr th:only-of-type {\n",
       "        vertical-align: middle;\n",
       "    }\n",
       "\n",
       "    .dataframe tbody tr th {\n",
       "        vertical-align: top;\n",
       "    }\n",
       "\n",
       "    .dataframe thead th {\n",
       "        text-align: right;\n",
       "    }\n",
       "</style>\n",
       "<table border=\"1\" class=\"dataframe\">\n",
       "  <thead>\n",
       "    <tr style=\"text-align: right;\">\n",
       "      <th></th>\n",
       "      <th>Type1</th>\n",
       "      <th>Type2</th>\n",
       "    </tr>\n",
       "    <tr>\n",
       "      <th>Name</th>\n",
       "      <th></th>\n",
       "      <th></th>\n",
       "    </tr>\n",
       "  </thead>\n",
       "  <tbody>\n",
       "    <tr>\n",
       "      <th>bulbasaur</th>\n",
       "      <td>Grass</td>\n",
       "      <td>Poison</td>\n",
       "    </tr>\n",
       "    <tr>\n",
       "      <th>ivysaur</th>\n",
       "      <td>Grass</td>\n",
       "      <td>Poison</td>\n",
       "    </tr>\n",
       "    <tr>\n",
       "      <th>venusaur</th>\n",
       "      <td>Grass</td>\n",
       "      <td>Poison</td>\n",
       "    </tr>\n",
       "    <tr>\n",
       "      <th>charmander</th>\n",
       "      <td>Fire</td>\n",
       "      <td>NaN</td>\n",
       "    </tr>\n",
       "    <tr>\n",
       "      <th>charmeleon</th>\n",
       "      <td>Fire</td>\n",
       "      <td>NaN</td>\n",
       "    </tr>\n",
       "  </tbody>\n",
       "</table>\n",
       "</div>"
      ],
      "text/plain": [
       "            Type1   Type2\n",
       "Name                     \n",
       "bulbasaur   Grass  Poison\n",
       "ivysaur     Grass  Poison\n",
       "venusaur    Grass  Poison\n",
       "charmander   Fire     NaN\n",
       "charmeleon   Fire     NaN"
      ]
     },
     "execution_count": 158,
     "metadata": {},
     "output_type": "execute_result"
    }
   ],
   "source": [
    "csv_data = pd.read_csv(csv_path, index_col=0)\n",
    "\n",
    "csv_data.head()"
   ]
  },
  {
   "cell_type": "code",
   "execution_count": 159,
   "id": "2355d17e",
   "metadata": {},
   "outputs": [],
   "source": [
    "sorted_df = csv_data.sort_values(by=[\"Name\"], ascending=True)\n",
    "sorted_df.to_csv('sorted_data.csv', index=False)"
   ]
  },
  {
   "cell_type": "code",
   "execution_count": 160,
   "id": "77e18191",
   "metadata": {},
   "outputs": [
    {
     "data": {
      "text/html": [
       "<div>\n",
       "<style scoped>\n",
       "    .dataframe tbody tr th:only-of-type {\n",
       "        vertical-align: middle;\n",
       "    }\n",
       "\n",
       "    .dataframe tbody tr th {\n",
       "        vertical-align: top;\n",
       "    }\n",
       "\n",
       "    .dataframe thead th {\n",
       "        text-align: right;\n",
       "    }\n",
       "</style>\n",
       "<table border=\"1\" class=\"dataframe\">\n",
       "  <thead>\n",
       "    <tr style=\"text-align: right;\">\n",
       "      <th></th>\n",
       "      <th>Type1</th>\n",
       "      <th>Type2</th>\n",
       "    </tr>\n",
       "    <tr>\n",
       "      <th>Name</th>\n",
       "      <th></th>\n",
       "      <th></th>\n",
       "    </tr>\n",
       "  </thead>\n",
       "  <tbody>\n",
       "    <tr>\n",
       "      <th>abomasnow</th>\n",
       "      <td>Grass</td>\n",
       "      <td>Ice</td>\n",
       "    </tr>\n",
       "    <tr>\n",
       "      <th>abra</th>\n",
       "      <td>Psychic</td>\n",
       "      <td>NaN</td>\n",
       "    </tr>\n",
       "    <tr>\n",
       "      <th>absol</th>\n",
       "      <td>Dark</td>\n",
       "      <td>NaN</td>\n",
       "    </tr>\n",
       "    <tr>\n",
       "      <th>accelgor</th>\n",
       "      <td>Bug</td>\n",
       "      <td>NaN</td>\n",
       "    </tr>\n",
       "    <tr>\n",
       "      <th>aegislash-blade</th>\n",
       "      <td>Steel</td>\n",
       "      <td>Ghost</td>\n",
       "    </tr>\n",
       "  </tbody>\n",
       "</table>\n",
       "</div>"
      ],
      "text/plain": [
       "                   Type1  Type2\n",
       "Name                           \n",
       "abomasnow          Grass    Ice\n",
       "abra             Psychic    NaN\n",
       "absol               Dark    NaN\n",
       "accelgor             Bug    NaN\n",
       "aegislash-blade    Steel  Ghost"
      ]
     },
     "execution_count": 160,
     "metadata": {},
     "output_type": "execute_result"
    }
   ],
   "source": [
    "sorted_df.head()"
   ]
  },
  {
   "cell_type": "code",
   "execution_count": null,
   "id": "6ca51c49",
   "metadata": {},
   "outputs": [],
   "source": []
  },
  {
   "cell_type": "markdown",
   "id": "b134a90d",
   "metadata": {},
   "source": [
    "# Calculating mean BGR value\n"
   ]
  },
  {
   "cell_type": "code",
   "execution_count": 161,
   "id": "761f1f07",
   "metadata": {
    "scrolled": true
   },
   "outputs": [
    {
     "name": "stdout",
     "output_type": "stream",
     "text": [
      "Number of images: \n",
      "\n",
      "809\n"
     ]
    }
   ],
   "source": [
    "data_dict = {}\n",
    "count =0\n",
    "File_names = os.listdir(img_path)\n",
    "print(\"Number of images: \\n\")\n",
    "print(len(File_names))"
   ]
  },
  {
   "cell_type": "code",
   "execution_count": 162,
   "id": "9e8a2b43",
   "metadata": {},
   "outputs": [],
   "source": [
    "def mean_color(img):\n",
    "    c=0\n",
    "    colorSum = [0, 0, 0]\n",
    "    for rc in img:\n",
    "        for pixel in rc:\n",
    "            if np.any(pixel>0):\n",
    "                c+=1\n",
    "                colorSum+=pixel\n",
    "    return(np.rint(colorSum/c))"
   ]
  },
  {
   "cell_type": "code",
   "execution_count": 163,
   "id": "f04a863e",
   "metadata": {},
   "outputs": [
    {
     "name": "stdout",
     "output_type": "stream",
     "text": [
      "[ 77. 192. 201.]\n"
     ]
    }
   ],
   "source": [
    "img = cv2.imread('archive/images/pokemon/abra.png')\n",
    "meanColor=mean_color(img)           \n",
    "\n",
    "print(meanColor)"
   ]
  },
  {
   "cell_type": "code",
   "execution_count": 164,
   "id": "8be8f7cb",
   "metadata": {},
   "outputs": [
    {
     "name": "stdout",
     "output_type": "stream",
     "text": [
      "{'abomasnow': array([205., 206., 190.]), 'abra': array([ 77., 192., 201.]), 'absol': array([205., 193., 190.]), 'accelgor': array([143., 127., 154.]), 'aegislash-blade': array([127., 151., 163.]), 'aerodactyl': array([181., 164., 176.]), 'aggron': array([136., 136., 136.]), 'aipom': array([168., 155., 186.]), 'alakazam': array([ 99., 182., 192.]), 'alomomola': array([174., 160., 210.]), 'altaria': array([234., 227., 215.]), 'amaura': array([209., 197., 165.]), 'ambipom': array([150., 147., 183.]), 'amoonguss': array([131., 136., 163.]), 'ampharos': array([119., 204., 221.]), 'anorith': array([139., 147., 144.]), 'araquanid': array([236., 238., 233.]), 'arbok': array([160., 140., 153.]), 'arcanine': array([144., 184., 214.]), 'arceus': array([174., 191., 192.]), 'archen': array([121., 135., 178.]), 'archeops': array([133., 153., 144.]), 'ariados': array([130., 135., 181.]), 'armaldo': array([150., 143., 143.]), 'aromatisse': array([163., 140., 203.]), 'aron': array([177., 173., 169.]), 'articuno': array([198., 170., 128.]), 'audino': array([178., 188., 225.]), 'aurorus': array([206., 195., 175.]), 'avalugg': array([212., 186., 141.]), 'axew': array([104., 133., 122.]), 'azelf': array([194., 180., 145.]), 'azumarill': array([184., 150.,  93.]), 'azurill': array([183., 141.,  65.]), 'bagon': array([179., 168., 144.]), 'baltoy': array([141., 177., 197.]), 'banette': array([134., 137., 138.]), 'barbaracle': array([137., 149., 153.]), 'barboach': array([188., 174., 142.]), 'basculin-red-striped': array([141., 173., 141.]), 'bastiodon': array([136., 141., 145.]), 'bayleef': array([127., 198., 195.]), 'beartic': array([228., 222., 211.]), 'beautifly': array([120., 141., 152.]), 'beedrill': array([192., 202., 205.]), 'beheeyem': array([127., 142., 171.]), 'beldum': array([138., 120.,  76.]), 'bellossom': array([ 99., 156., 159.]), 'bellsprout': array([127., 184., 165.]), 'bergmite': array([226., 213., 177.]), 'bewear': array([226., 226., 228.]), 'bibarel': array([ 88., 135., 165.]), 'bidoof': array([ 80., 128., 158.]), 'binacle': array([146., 163., 165.]), 'bisharp': array([121., 127., 163.]), 'blacephalon': array([248., 248., 248.]), 'blastoise': array([185., 177., 168.]), 'blaziken': array([119., 156., 208.]), 'blissey': array([216., 206., 224.]), 'blitzle': array([126., 128., 129.]), 'boldore': array([78., 66., 79.]), 'bonsly': array([ 97., 140., 128.]), 'bouffalant': array([ 89., 111., 127.]), 'bounsweet': array([250., 251., 252.]), 'braixen': array([112., 153., 189.]), 'braviary': array([ 96.,  91., 103.]), 'breloom': array([135., 162., 162.]), 'brionne': array([250., 249., 244.]), 'bronzong': array([158., 158., 106.]), 'bronzor': array([144., 130.,  59.]), 'bruxish': array([245., 243., 247.]), 'budew': array([ 86., 176., 144.]), 'buizel': array([ 91., 151., 206.]), 'bulbasaur': array([161., 192., 141.]), 'buneary': array([117., 158., 194.]), 'bunnelby': array([145., 151., 168.]), 'burmy': array([ 70., 118.,  86.]), 'butterfree': array([167., 161., 161.]), 'buzzwole': array([204., 207., 222.]), 'cacnea': array([115., 160., 132.]), 'cacturne': array([144., 186., 159.]), 'camerupt': array([130., 146., 197.]), 'carbink': array([166., 147., 143.]), 'carnivine': array([111., 179., 170.]), 'carracosta': array([156., 126.,  96.]), 'carvanha': array([126., 139., 159.]), 'cascoon': array([215., 203., 220.]), 'castform': array([199., 197., 199.]), 'caterpie': array([108., 176., 157.]), 'celebi': array([173., 203., 191.]), 'celesteela': array([215., 221., 210.]), 'chandelure': array([136., 114., 110.]), 'chansey': array([200., 188., 223.]), 'charizard': array([130., 165., 165.]), 'charjabug': array([235., 240., 238.]), 'charmander': array([128., 176., 214.]), 'charmeleon': array([123., 151., 218.]), 'chatot': array([121., 137., 128.]), 'cherrim': array([111.,  98., 108.]), 'cherubi': array([ 99., 111., 162.]), 'chesnaught': array([140., 166., 170.]), 'chespin': array([105., 161., 166.]), 'chikorita': array([153., 204., 186.]), 'chimchar': array([103., 165., 202.]), 'chimecho': array([184., 181., 188.]), 'chinchou': array([148., 176., 172.]), 'chingling': array([ 95., 183., 208.]), 'cinccino': array([202., 203., 209.]), 'clamperl': array([106.,  91.,  80.]), 'clauncher': array([191., 187., 139.]), 'clawitzer': array([171., 141., 101.]), 'claydol': array([112., 116., 135.]), 'clefable': array([196., 198., 226.]), 'clefairy': array([197., 190., 219.]), 'cleffa': array([171., 183., 209.]), 'cloyster': array([166., 138., 145.]), 'cobalion': array([162., 161., 114.]), 'cofagrigus': array([ 91., 108., 110.]), 'combee': array([104., 178., 207.]), 'combusken': array([123., 170., 203.]), 'comfey': array([230., 240., 245.]), 'conkeldurr': array([144., 147., 161.]), 'corphish': array([119., 143., 207.]), 'corsola': array([158., 146., 212.]), 'cosmoem': array([237., 243., 244.]), 'cosmog': array([248., 245., 243.]), 'cottonee': array([168., 211., 175.]), 'crabominable': array([232., 227., 224.]), 'crabrawler': array([242., 240., 236.]), 'cradily': array([149., 173., 181.]), 'cranidos': array([164., 148., 129.]), 'crawdaunt': array([103., 111., 159.]), 'cresselia': array([187., 187., 219.]), 'croagunk': array([147., 119., 107.]), 'crobat': array([169., 135., 128.]), 'croconaw': array([166., 187., 163.]), 'crustle': array([ 83., 110., 133.]), 'cryogonal': array([180., 152., 122.]), 'cubchoo': array([220., 203., 178.]), 'cubone': array([171., 187., 199.]), 'cutiefly': array([250., 251., 251.]), 'cyndaquil': array([144., 176., 166.]), 'darkrai': array([103., 106., 112.]), 'darmanitan-standard': array([ 80., 103., 186.]), 'dartrix': array([242., 245., 246.]), 'darumaka': array([ 88., 109., 186.]), 'decidueye': array([227., 235., 236.]), 'dedenne': array([102., 150., 171.]), 'deerling': array([142., 170., 201.]), 'deino': array([120., 108., 105.]), 'delcatty': array([151., 152., 182.]), 'delibird': array([145., 151., 199.]), 'delphox': array([ 83., 108., 182.]), 'deoxys-normal': array([115., 147., 183.]), 'dewgong': array([225., 220., 220.]), 'dewott': array([171., 159., 122.]), 'dewpider': array([248., 249., 248.]), 'dhelmise': array([228., 231., 225.]), 'dialga': array([169., 147., 127.]), 'diancie': array([170., 149., 173.]), 'diggersby': array([109., 139., 158.]), 'diglett': array([136., 151., 173.]), 'ditto': array([219., 184., 204.]), 'dodrio': array([118., 140., 166.]), 'doduo': array([127., 156., 190.]), 'donphan': array([171., 159., 146.]), 'doublade': array([155., 155., 180.]), 'dragalge': array([120., 121., 163.]), 'dragonair': array([215., 194., 173.]), 'dragonite': array([128., 185., 205.]), 'drampa': array([242., 245., 242.]), 'drapion': array([152., 112., 157.]), 'dratini': array([213., 200., 194.]), 'drifblim': array([143., 153., 178.]), 'drifloon': array([158., 153., 172.]), 'drilbur': array([143., 138., 144.]), 'drowzee': array([ 72., 170., 179.]), 'druddigon': array([132., 111.,  79.]), 'ducklett': array([183., 191., 160.]), 'dugtrio': array([134., 154., 180.]), 'dunsparce': array([142., 189., 165.]), 'duosion': array([178., 221., 183.]), 'durant': array([135., 134., 138.]), 'dusclops': array([154., 156., 160.]), 'dusknoir': array([116., 134., 136.]), 'duskull': array([146., 150., 150.]), 'dustox': array([106., 154., 154.]), 'dwebble': array([ 79., 107., 144.]), 'eelektrik': array([126., 137., 147.]), 'eelektross': array([117., 118., 119.]), 'eevee': array([ 93., 138., 179.]), 'ekans': array([174., 140., 180.]), 'electabuzz': array([ 97., 161., 171.]), 'electivire': array([103., 156., 167.]), 'electrike': array([143., 190., 163.]), 'electrode': array([200., 196., 213.]), 'elekid': array([101., 174., 186.]), 'elgyem': array([182., 188., 144.]), 'emboar': array([ 67., 110., 144.]), 'emolga': array([136., 148., 153.]), 'empoleon': array([116., 118., 110.]), 'entei': array([ 96., 123., 153.]), 'escavalier': array([146., 153., 197.]), 'espeon': array([190., 170., 188.]), 'espurr': array([186., 164., 165.]), 'excadrill': array([108., 108., 122.]), 'exeggcute': array([203., 200., 219.]), 'exeggutor': array([143., 176., 161.]), 'exploud': array([174., 154., 157.]), 'farfetchd': array([141., 177., 189.]), 'fearow': array([100., 142., 184.]), 'feebas': array([151., 172., 186.]), 'fennekin': array([109., 168., 215.]), 'feraligatr': array([203., 192., 138.]), 'ferroseed': array([131., 152., 133.]), 'ferrothorn': array([137., 167., 133.]), 'finneon': array([152., 143., 138.]), 'flaaffy': array([201., 187., 210.]), 'flabebe': array([136., 157., 180.]), 'flareon': array([121., 182., 213.]), 'fletchinder': array([107., 127., 157.]), 'fletchling': array([122., 135., 172.]), 'floatzel': array([ 90., 171., 211.]), 'floette': array([146., 165., 166.]), 'florges': array([137., 142., 140.]), 'flygon': array([137., 171., 168.]), 'fomantis': array([250., 250., 249.]), 'foongus': array([185., 190., 199.]), 'forretress': array([143., 142., 189.]), 'fraxure': array([107., 125., 118.]), 'frillish': array([212., 203., 162.]), 'froakie': array([189., 188., 145.]), 'frogadier': array([182., 168., 117.]), 'froslass': array([191., 188., 189.]), 'furfrou': array([196., 205., 210.]), 'furret': array([147., 175., 202.]), 'gabite': array([139., 117., 130.]), 'gallade': array([170., 186., 155.]), 'galvantula': array([123., 177., 188.]), 'garbodor': array([125., 146., 145.]), 'garchomp': array([126., 108., 115.]), 'gardevoir': array([201., 215., 203.]), 'gastly': array([126., 102., 116.]), 'gastrodon': array([120., 137., 186.]), 'genesect': array([158., 132., 159.]), 'gengar': array([171., 130., 141.]), 'geodude': array([159., 169., 173.]), 'gible': array([133., 129., 121.]), 'gigalith': array([ 85.,  77., 119.]), 'girafarig': array([ 67., 141., 177.]), 'giratina-altered': array([115., 137., 151.]), 'glaceon': array([181., 176., 128.]), 'glalie': array([167., 155., 148.]), 'glameow': array([159., 150., 149.]), 'gligar': array([175., 136., 184.]), 'gliscor': array([154., 134., 137.]), 'gloom': array([125., 119., 129.]), 'gogoat': array([127., 145., 129.]), 'golbat': array([131., 100., 109.]), 'goldeen': array([188., 193., 201.]), 'golduck': array([198., 173., 138.]), 'golem': array([130., 135., 142.]), 'golett': array([143., 150., 109.]), 'golisopod': array([228., 230., 227.]), 'golurk': array([152., 161., 119.]), 'goodra': array([208., 183., 197.]), 'goomy': array([211., 189., 199.]), 'gorebyss': array([198., 181., 219.]), 'gothita': array([172., 157., 171.]), 'gothitelle': array([95., 92., 96.]), 'gothorita': array([109., 106., 108.]), 'gourgeist-average': array([110., 139., 178.]), 'granbull': array([196., 173., 205.]), 'graveler': array([164., 174., 179.]), 'greninja': array([167., 142., 123.]), 'grimer': array([159., 130., 152.]), 'grotle': array([ 73., 154., 127.]), 'groudon': array([ 88.,  95., 173.]), 'grovyle': array([121., 152., 137.]), 'growlithe': array([137., 174., 206.]), 'grubbin': array([248., 250., 251.]), 'grumpig': array([138., 130., 138.]), 'gulpin': array([132., 182., 149.]), 'gumshoos': array([233., 240., 242.]), 'gurdurr': array([129., 126., 166.]), 'guzzlord': array([176., 177., 168.]), 'gyarados': array([167., 161., 135.]), 'hakamo-o': array([239., 242., 242.]), 'happiny': array([180., 177., 206.]), 'hariyama': array([121., 152., 185.]), 'haunter': array([180., 138., 150.]), 'hawlucha': array([137., 155., 147.]), 'haxorus': array([ 58., 116., 133.]), 'heatmor': array([ 84., 113., 166.]), 'heatran': array([122., 132., 157.]), 'heliolisk': array([105., 153., 170.]), 'helioptile': array([118., 163., 165.]), 'heracross': array([169., 141., 101.]), 'herdier': array([120., 136., 160.]), 'hippopotas': array([ 91., 162., 182.]), 'hippowdon': array([ 89., 126., 136.]), 'hitmonchan': array([150., 155., 180.]), 'hitmonlee': array([151., 162., 180.]), 'hitmontop': array([139., 150., 166.]), 'ho-oh': array([ 80., 122., 192.]), 'honchkrow': array([133., 114.,  97.]), 'honedge': array([149., 151., 128.]), 'hoopa-confined': array([144., 156., 192.]), 'hoothoot': array([123., 147., 179.]), 'hoppip': array([137., 141., 184.]), 'horsea': array([201., 195., 160.]), 'houndoom': array([109., 115., 129.]), 'houndour': array([ 98., 107., 116.]), 'huntail': array([167., 174., 174.]), 'hydreigon': array([117., 100., 114.]), 'hypno': array([ 96., 208., 220.]), 'igglybuff': array([195., 192., 219.]), 'illumise': array([151., 143., 140.]), 'incineroar': array([214., 216., 232.]), 'infernape': array([109., 145., 185.]), 'inkay': array([192., 180., 181.]), 'ivysaur': array([162., 156., 145.]), 'jangmo-o': array([248., 249., 250.]), 'jellicent': array([232., 213., 180.]), 'jigglypuff': array([200., 193., 209.]), 'jirachi': array([161., 207., 208.]), 'jolteon': array([123., 186., 198.]), 'joltik': array([107., 197., 205.]), 'jumpluff': array([180., 181., 182.]), 'jynx': array([138., 144., 209.]), 'kabuto': array([104., 136., 172.]), 'kabutops': array([107., 148., 181.]), 'kadabra': array([ 84., 171., 186.]), 'kakuna': array([ 96., 182., 201.]), 'kangaskhan': array([123., 154., 178.]), 'karrablast': array([125., 132., 105.]), 'kartana': array([240., 244., 246.]), 'kecleon': array([123., 181., 175.]), 'keldeo-ordinary': array([154., 166., 172.]), 'kingdra': array([185., 172., 126.]), 'kingler': array([129., 160., 208.]), 'kirlia': array([159., 182., 164.]), 'klang': array([168., 168., 159.]), 'klefki': array([157., 164., 170.]), 'klink': array([165., 163., 156.]), 'klinklang': array([181., 179., 170.]), 'koffing': array([175., 153., 164.]), 'komala': array([246., 246., 246.]), 'kommo-o': array([222., 226., 227.]), 'krabby': array([143., 165., 196.]), 'kricketot': array([ 99., 125., 159.]), 'kricketune': array([ 88., 106., 161.]), 'krokorok': array([102., 126., 153.]), 'krookodile': array([126., 118., 158.]), 'kyogre': array([186., 138., 102.]), 'kyurem': array([182., 179., 163.]), 'lairon': array([163., 162., 163.]), 'lampent': array([115., 107., 104.]), 'landorus-incarnate': array([149., 160., 183.]), 'lanturn': array([169., 175., 169.]), 'lapras': array([206., 194., 157.]), 'larvesta': array([176., 181., 202.]), 'larvitar': array([123., 167., 167.]), 'latias': array([151., 141., 180.]), 'latios': array([173., 142., 105.]), 'leafeon': array([144., 188., 177.]), 'leavanny': array([ 72., 163., 135.]), 'ledian': array([127., 130., 178.]), 'ledyba': array([130., 165., 192.]), 'lickilicky': array([151., 149., 221.]), 'lickitung': array([184., 182., 222.]), 'liepard': array([119., 122., 149.]), 'lileep': array([157., 150., 172.]), 'lilligant': array([107., 174., 165.]), 'lillipup': array([132., 177., 211.]), 'linoone': array([164., 169., 184.]), 'litleo': array([116., 137., 158.]), 'litten': array([244., 245., 247.]), 'litwick': array([219., 204., 199.]), 'lombre': array([113., 170., 137.]), 'lopunny': array([126., 170., 200.]), 'lotad': array([122., 163., 125.]), 'loudred': array([163., 148., 157.]), 'lucario': array([133., 129., 113.]), 'ludicolo': array([133., 182., 172.]), 'lugia': array([213., 200., 197.]), 'lumineon': array([139., 135., 105.]), 'lunala': array([215., 205., 209.]), 'lunatone': array([144., 180., 191.]), 'lurantis': array([238., 236., 246.]), 'luvdisc': array([183., 184., 231.]), 'luxio': array([114., 123., 110.]), 'luxray': array([83., 90., 90.]), 'lycanroc-midday': array([245., 246., 247.]), 'machamp': array([170., 156., 147.]), 'machoke': array([181., 164., 168.]), 'machop': array([189., 187., 165.]), 'magby': array([117., 130., 208.]), 'magcargo': array([ 89., 110., 193.]), 'magearna': array([245., 247., 248.]), 'magikarp': array([127., 152., 203.]), 'magmar': array([ 82., 142., 204.]), 'magmortar': array([ 66., 127., 201.]), 'magnemite': array([169., 167., 156.]), 'magneton': array([164., 162., 151.]), 'magnezone': array([157., 158., 154.]), 'makuhita': array([133., 175., 190.]), 'malamar': array([193., 177., 165.]), 'mamoswine': array([133., 162., 184.]), 'manaphy': array([211., 198., 124.]), 'mandibuzz': array([121., 132., 153.]), 'manectric': array([173., 193., 181.]), 'mankey': array([169., 182., 200.]), 'mantine': array([169., 153., 147.]), 'mantyke': array([181., 141.,  89.]), 'maractus': array([109., 156., 123.]), 'mareanie': array([248., 247., 244.]), 'mareep': array([163., 185., 183.]), 'marill': array([191., 164., 122.]), 'marowak': array([170., 190., 203.]), 'marshadow': array([244., 244., 244.]), 'marshtomp': array([174., 183., 165.]), 'masquerain': array([178., 187., 213.]), 'mawile': array([107., 123., 126.]), 'medicham': array([156., 145., 214.]), 'meditite': array([189., 182., 172.]), 'meganium': array([140., 191., 197.]), 'melmetal': array([208., 211., 212.]), 'meloetta-aria': array([148., 165., 159.]), 'meltan': array([236., 242., 244.]), 'meowstic-male': array([162., 143., 108.]), 'meowth': array([165., 184., 193.]), 'mesprit': array([180., 160., 189.]), 'metagross': array([157., 142., 100.]), 'metang': array([152., 137.,  97.]), 'metapod': array([ 92., 182., 143.]), 'mew': array([197., 182., 211.]), 'mewtwo': array([203., 189., 203.]), 'mienfoo': array([132., 167., 209.]), 'mienshao': array([182., 174., 186.]), 'mightyena': array([114., 114., 115.]), 'milotic': array([176., 189., 206.]), 'miltank': array([160., 169., 192.]), 'mime-jr': array([154., 139., 130.]), 'mimikyu': array([246., 249., 249.]), 'minccino': array([193., 193., 202.]), 'minior-meteor': array([245., 245., 246.]), 'minun': array([185., 193., 164.]), 'misdreavus': array([154., 137., 104.]), 'mismagius': array([144.,  99., 139.]), 'moltres': array([ 70., 163., 219.]), 'monferno': array([ 99., 149., 186.]), 'morelull': array([250., 250., 251.]), 'mothim': array([ 86., 160., 205.]), 'mr-mime': array([165., 151., 162.]), 'mudbray': array([241., 242., 245.]), 'mudkip': array([194., 188., 164.]), 'mudsdale': array([217., 220., 230.]), 'muk': array([150., 131., 146.]), 'munchlax': array([152., 143., 112.]), 'munna': array([205., 195., 234.]), 'murkrow': array([94., 79., 65.]), 'musharna': array([196., 176., 217.]), 'naganadel': array([244., 236., 241.]), 'natu': array([ 77., 174., 164.]), 'necrozma': array([207., 206., 206.]), 'nidoking': array([177., 147., 175.]), 'nidoqueen': array([184., 171., 149.]), 'nidoran-f': array([203., 181., 169.]), 'nidoran-m': array([176., 144., 163.]), 'nidorina': array([202., 193., 172.]), 'nidorino': array([181., 144., 173.]), 'nihilego': array([249., 247., 245.]), 'nincada': array([174., 174., 174.]), 'ninetales': array([126., 211., 220.]), 'ninjask': array([151., 162., 170.]), 'noctowl': array([111., 138., 170.]), 'noibat': array([165., 139., 167.]), 'noivern': array([123., 117., 103.]), 'nosepass': array([140., 109., 113.]), 'numel': array([156., 208., 220.]), 'nuzleaf': array([132., 143., 160.]), 'octillery': array([ 76.,  97., 212.]), 'oddish': array([ 95., 151.,  85.]), 'omanyte': array([175., 199., 187.]), 'omastar': array([179., 192., 168.]), 'onix': array([138., 136., 137.]), 'oranguru': array([238., 238., 236.]), 'oricorio-baile': array([237., 236., 246.]), 'oshawott': array([191., 188., 172.]), 'pachirisu': array([213., 210., 188.]), 'palkia': array([189., 178., 189.]), 'palossand': array([230., 239., 246.]), 'palpitoad': array([161., 155., 126.]), 'pancham': array([139., 152., 151.]), 'pangoro': array([125., 129., 128.]), 'panpour': array([184., 186., 130.]), 'pansage': array([122., 180., 117.]), 'pansear': array([107., 145., 214.]), 'paras': array([107., 159., 203.]), 'parasect': array([129., 168., 220.]), 'passimian': array([235., 238., 237.]), 'patrat': array([119., 152., 182.]), 'pawniard': array([117., 119., 138.]), 'pelipper': array([164., 207., 211.]), 'persian': array([168., 201., 214.]), 'petilil': array([136., 204., 183.]), 'phanpy': array([196., 195., 158.]), 'phantump': array([ 96., 109., 115.]), 'pheromosa': array([245., 245., 245.]), 'phione': array([204., 182., 110.]), 'pichu': array([115., 170., 178.]), 'pidgeot': array([157., 199., 212.]), 'pidgeotto': array([136., 174., 199.]), 'pidgey': array([138., 177., 193.]), 'pidove': array([143., 148., 154.]), 'pignite': array([ 68., 108., 156.]), 'pikachu': array([117., 205., 220.]), 'pikipek': array([250., 250., 251.]), 'piloswine': array([101., 127., 171.]), 'pineco': array([100., 104.,  73.]), 'pinsir': array([167., 168., 178.]), 'piplup': array([189., 173., 139.]), 'plusle': array([132., 150., 206.]), 'poipole': array([251., 248., 249.]), 'politoed': array([ 90., 195., 165.]), 'poliwag': array([169., 145., 129.]), 'poliwhirl': array([171., 152., 138.]), 'poliwrath': array([176., 151., 135.]), 'ponyta': array([121., 186., 218.]), 'poochyena': array([135., 135., 137.]), 'popplio': array([250., 248., 246.]), 'porygon-z': array([156., 137., 131.]), 'porygon': array([173., 166., 127.]), 'porygon2': array([162., 138., 164.]), 'primarina': array([238., 228., 216.]), 'primeape': array([165., 183., 203.]), 'prinplup': array([152., 146., 119.]), 'probopass': array([124., 113., 137.]), 'psyduck': array([140., 199., 221.]), 'pumpkaboo-average': array([ 91., 109., 143.]), 'pupitar': array([209., 178., 169.]), 'purrloin': array([138., 114., 137.]), 'purugly': array([173., 162., 165.]), 'pyroar': array([ 91., 123., 199.]), 'pyukumuku': array([246., 246., 247.]), 'quagsire': array([219., 204., 162.]), 'quilava': array([134., 155., 139.]), 'quilladin': array([ 85., 147., 148.]), 'qwilfish': array([144., 168., 140.]), 'raichu': array([113., 185., 206.]), 'raikou': array([138., 189., 203.]), 'ralts': array([179., 197., 185.]), 'rampardos': array([134., 123., 116.]), 'rapidash': array([ 95., 176., 227.]), 'raticate': array([123., 174., 205.]), 'rattata': array([169., 151., 174.]), 'rayquaza': array([115., 145., 109.]), 'regice': array([234., 204., 138.]), 'regigigas': array([143., 183., 176.]), 'regirock': array([140., 150., 176.]), 'registeel': array([169., 170., 172.]), 'relicanth': array([112., 125., 137.]), 'remoraid': array([177., 192., 175.]), 'reshiram': array([214., 202., 202.]), 'reuniclus': array([173., 212., 181.]), 'rhydon': array([176., 171., 169.]), 'rhyhorn': array([171., 158., 150.]), 'rhyperior': array([ 98., 119., 165.]), 'ribombee': array([242., 244., 245.]), 'riolu': array([136., 125., 108.]), 'rockruff': array([245., 246., 248.]), 'roggenrola': array([80., 84., 87.]), 'roselia': array([137., 153., 144.]), 'roserade': array([167., 163., 156.]), 'rotom': array([190., 201., 191.]), 'rowlet': array([247., 249., 249.]), 'rufflet': array([181., 186., 192.]), 'sableye': array([162., 116., 133.]), 'salamence': array([144., 128., 125.]), 'salandit': array([242., 242., 242.]), 'salazzle': array([237., 236., 237.]), 'samurott': array([161., 146., 129.]), 'sandile': array([ 94., 123., 148.]), 'sandshrew': array([131., 198., 214.]), 'sandslash': array([105., 164., 188.]), 'sandygast': array([248., 250., 250.]), 'sawk': array([150., 137., 107.]), 'sawsbuck': array([ 82., 117., 148.]), 'scatterbug': array([132., 134., 134.]), 'sceptile': array([129., 170., 131.]), 'scizor': array([109., 111., 186.]), 'scolipede': array([ 93.,  80., 132.]), 'scrafty': array([103., 152., 205.]), 'scraggy': array([127., 187., 214.]), 'scyther': array([157., 196., 175.]), 'seadra': array([200., 194., 156.]), 'seaking': array([165., 177., 208.]), 'sealeo': array([206., 197., 165.]), 'seedot': array([140., 153., 162.]), 'seel': array([217., 212., 213.]), 'seismitoad': array([171., 144.,  95.]), 'sentret': array([116., 132., 164.]), 'serperior': array([108., 156., 100.]), 'servine': array([123., 189., 166.]), 'seviper': array([114., 115., 107.]), 'sewaddle': array([ 85., 178., 176.]), 'sharpedo': array([169., 139.,  90.]), 'shaymin-land': array([135., 185., 175.]), 'shedinja': array([135., 170., 188.]), 'shelgon': array([193., 194., 195.]), 'shellder': array([152., 127., 135.]), 'shellos': array([165., 162., 205.]), 'shelmet': array([145., 147., 178.]), 'shieldon': array([127., 144., 153.]), 'shiftry': array([132., 155., 150.]), 'shiinotic': array([228., 234., 236.]), 'shinx': array([168., 171., 138.]), 'shroomish': array([174., 192., 196.]), 'shuckle': array([ 92., 169., 216.]), 'shuppet': array([167., 132., 125.]), 'sigilyph': array([119., 141., 150.]), 'silcoon': array([223., 211., 214.]), 'silvally': array([231., 230., 229.]), 'simipour': array([182., 190., 136.]), 'simisage': array([121., 174., 116.]), 'simisear': array([115., 150., 211.]), 'skarmory': array([164., 153., 165.]), 'skiddo': array([129., 143., 130.]), 'skiploom': array([ 64., 185., 139.]), 'skitty': array([166., 175., 212.]), 'skorupi': array([178., 149., 142.]), 'skrelp': array([127., 124., 154.]), 'skuntank': array([136., 124., 142.]), 'slaking': array([158., 167., 183.]), 'slakoth': array([178., 188., 200.]), 'sliggoo': array([208., 184., 197.]), 'slowbro': array([188., 183., 205.]), 'slowking': array([184., 185., 212.]), 'slowpoke': array([188., 179., 218.]), 'slugma': array([ 92., 131., 217.]), 'slurpuff': array([199., 192., 221.]), 'smeargle': array([158., 182., 192.]), 'smoochum': array([140., 171., 202.]), 'sneasel': array([137., 124., 118.]), 'snivy': array([117., 181., 151.]), 'snorlax': array([182., 176., 149.]), 'snorunt': array([117., 155., 171.]), 'snover': array([171., 179., 171.]), 'snubbull': array([148., 141., 194.]), 'solgaleo': array([229., 232., 232.]), 'solosis': array([174., 215., 182.]), 'solrock': array([101., 162., 204.]), 'spearow': array([135., 154., 191.]), 'spewpa': array([177., 183., 188.]), 'spheal': array([196., 196., 190.]), 'spinarak': array([119., 174., 165.]), 'spinda': array([161., 169., 205.]), 'spiritomb': array([146., 139., 178.]), 'spoink': array([161., 160., 168.]), 'spritzee': array([174., 162., 201.]), 'squirtle': array([184., 183., 144.]), 'stakataka': array([214., 214., 213.]), 'stantler': array([125., 160., 186.]), 'staraptor': array([ 89., 101., 112.]), 'staravia': array([ 87., 100., 110.]), 'starly': array([125., 134., 149.]), 'starmie': array([157., 158., 174.]), 'staryu': array([ 90., 152., 179.]), 'steelix': array([196., 177., 169.]), 'steenee': array([245., 248., 247.]), 'stoutland': array([145., 161., 168.]), 'stufful': array([247., 247., 249.]), 'stunfisk': array([105., 150., 185.]), 'stunky': array([127., 110., 127.]), 'sudowoodo': array([ 99., 132., 137.]), 'suicune': array([175., 163., 144.]), 'sunflora': array([106., 189., 177.]), 'sunkern': array([ 82., 154., 160.]), 'surskit': array([182., 173., 142.]), 'swablu': array([222., 211., 192.]), 'swadloon': array([ 62., 173., 135.]), 'swalot': array([185., 143., 160.]), 'swampert': array([179., 168., 136.]), 'swanna': array([212., 203., 192.]), 'swellow': array([121.,  97., 111.]), 'swinub': array([102., 126., 168.]), 'swirlix': array([222., 218., 226.]), 'swoobat': array([140., 124., 108.]), 'sylveon': array([196., 185., 208.]), 'taillow': array([128., 117., 142.]), 'talonflame': array([125., 133., 154.]), 'tangela': array([156., 138., 110.]), 'tangrowth': array([177., 148., 118.]), 'tapu-bulu': array([220., 226., 235.]), 'tapu-fini': array([239., 234., 235.]), 'tapu-koko': array([216., 231., 236.]), 'tapu-lele': array([239., 238., 245.]), 'tauros': array([119., 145., 165.]), 'teddiursa': array([ 92., 156., 210.]), 'tentacool': array([180., 164., 155.]), 'tentacruel': array([164., 152., 151.]), 'tepig': array([ 71., 111., 173.]), 'terrakion': array([128., 140., 154.]), 'throh': array([143., 150., 171.]), 'thundurus-incarnate': array([173., 164., 155.]), 'timburr': array([135., 157., 183.]), 'tirtouga': array([152., 126., 101.]), 'togedemaru': array([251., 252., 252.]), 'togekiss': array([216., 216., 205.]), 'togepi': array([177., 192., 197.]), 'togetic': array([197., 199., 207.]), 'torchic': array([ 87., 172., 220.]), 'torkoal': array([139., 162., 195.]), 'tornadus-incarnate': array([166., 159., 167.]), 'torracat': array([230., 233., 239.]), 'torterra': array([ 88., 134., 104.]), 'totodile': array([177., 177., 115.]), 'toucannon': array([224., 227., 230.]), 'toxapex': array([230., 228., 225.]), 'toxicroak': array([156., 130., 126.]), 'tranquill': array([153., 152., 158.]), 'trapinch': array([117., 151., 221.]), 'treecko': array([122., 184., 178.]), 'trevenant': array([102., 123., 121.]), 'tropius': array([117., 161., 126.]), 'trubbish': array([113., 131., 113.]), 'trumbeak': array([242., 242., 242.]), 'tsareena': array([231., 238., 238.]), 'turtonator': array([228., 232., 240.]), 'turtwig': array([114., 181., 165.]), 'tympole': array([135., 156., 158.]), 'tynamo': array([200., 205., 200.]), 'type-null': array([226., 228., 229.]), 'typhlosion': array([143., 209., 218.]), 'tyranitar': array([137., 181., 166.]), 'tyrantrum': array([125., 130., 162.]), 'tyrogue': array([163., 162., 185.]), 'tyrunt': array([109., 116., 134.]), 'umbreon': array([ 92., 104.,  95.]), 'unfezant': array([123., 126., 126.]), 'unown': array([125., 119., 109.]), 'ursaring': array([ 87., 119., 163.]), 'uxie': array([154., 186., 188.]), 'vanillish': array([216., 197., 179.]), 'vanillite': array([221., 211., 205.]), 'vanilluxe': array([219., 201., 186.]), 'vaporeon': array([201., 191., 152.]), 'venipede': array([115.,  95., 183.]), 'venomoth': array([203., 188., 197.]), 'venonat': array([166., 124., 146.]), 'venusaur': array([170., 176., 145.]), 'vespiquen': array([ 77., 151., 175.]), 'vibrava': array([114., 146., 124.]), 'victini': array([120., 161., 194.]), 'victreebel': array([122., 202., 188.]), 'vigoroth': array([196., 196., 202.]), 'vikavolt': array([235., 235., 229.]), 'vileplume': array([133., 116., 148.]), 'virizion': array([109., 179., 160.]), 'vivillon': array([138., 110., 172.]), 'volbeat': array([131., 141., 175.]), 'volcanion': array([ 96., 105., 176.]), 'volcarona': array([134., 145., 183.]), 'voltorb': array([156., 162., 218.]), 'vullaby': array([113., 123., 139.]), 'vulpix': array([ 89., 132., 197.]), 'wailmer': array([196., 200., 186.]), 'wailord': array([223., 190., 122.]), 'walrein': array([188., 173., 133.]), 'wartortle': array([198., 189., 177.]), 'watchog': array([ 92., 136., 182.]), 'weavile': array([111.,  91., 148.]), 'weedle': array([134., 167., 201.]), 'weepinbell': array([134., 199., 186.]), 'weezing': array([161., 153., 169.]), 'whimsicott': array([156., 203., 204.]), 'whirlipede': array([149., 135., 150.]), 'whiscash': array([142., 127., 108.]), 'whismur': array([177., 197., 219.]), 'wigglytuff': array([201., 193., 207.]), 'wimpod': array([249., 248., 249.]), 'wingull': array([195., 191., 187.]), 'wishiwashi-solo': array([252., 251., 251.]), 'wobbuffet': array([217., 182., 110.]), 'woobat': array([177., 169., 155.]), 'wooper': array([201., 181., 157.]), 'wormadam-plant': array([ 79., 124.,  83.]), 'wurmple': array([157., 161., 205.]), 'wynaut': array([183., 178., 123.]), 'xatu': array([112., 164., 168.]), 'xerneas': array([143., 151., 156.]), 'xurkitree': array([231., 232., 231.]), 'yamask': array([ 86., 100., 111.]), 'yanma': array([148., 170., 183.]), 'yanmega': array([114., 132., 139.]), 'yungoos': array([242., 245., 248.]), 'yveltal': array([ 79.,  73., 104.]), 'zangoose': array([189., 185., 207.]), 'zapdos': array([118., 181., 197.]), 'zebstrika': array([124., 127., 130.]), 'zekrom': array([88., 88., 75.]), 'zeraora': array([228., 240., 240.]), 'zigzagoon': array([136., 149., 158.]), 'zoroark': array([ 81.,  68., 105.]), 'zorua': array([105.,  83., 102.]), 'zubat': array([140., 107., 122.]), 'zweilous': array([110., 103., 102.]), 'zygarde-50': array([ 75., 118., 107.])}\n"
     ]
    }
   ],
   "source": [
    "\n",
    "for file in File_names:\n",
    "    img = cv2.imread(os.path.join(img_path, file)) \n",
    "    meanColor=mean_color(img)  \n",
    "    data_dict[file.split(\".\")[0]] = meanColor\n",
    "print(data_dict)"
   ]
  },
  {
   "cell_type": "code",
   "execution_count": null,
   "id": "a25eaccf",
   "metadata": {},
   "outputs": [],
   "source": []
  }
 ],
 "metadata": {
  "kernelspec": {
   "display_name": "Python 3 (ipykernel)",
   "language": "python",
   "name": "python3"
  },
  "language_info": {
   "codemirror_mode": {
    "name": "ipython",
    "version": 3
   },
   "file_extension": ".py",
   "mimetype": "text/x-python",
   "name": "python",
   "nbconvert_exporter": "python",
   "pygments_lexer": "ipython3",
   "version": "3.9.7"
  }
 },
 "nbformat": 4,
 "nbformat_minor": 5
}
